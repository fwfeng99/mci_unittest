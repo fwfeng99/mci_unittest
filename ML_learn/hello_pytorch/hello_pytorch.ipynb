{
 "cells": [
  {
   "cell_type": "markdown",
   "metadata": {},
   "source": [
    "## 数据集加载"
   ]
  },
  {
   "cell_type": "code",
   "execution_count": 1,
   "metadata": {},
   "outputs": [
    {
     "name": "stdout",
     "output_type": "stream",
     "text": [
      "Shape of X [N, C, H, W]:  torch.Size([64, 1, 28, 28])\n",
      "Shape of y:  torch.Size([64])\n"
     ]
    }
   ],
   "source": [
    "import torch\n",
    "from torch import nn\n",
    "from torch.utils.data import DataLoader\n",
    "from torchvision import datasets\n",
    "from torchvision.transforms import ToTensor\n",
    " \n",
    "# ----------数据集----------\n",
    " \n",
    "# 加载MNIST数据集的训练集\n",
    "training_data = datasets.FashionMNIST(\n",
    "    root=\"data\",\n",
    "    train=True,\n",
    "    download=True,\n",
    "    transform=ToTensor(),\n",
    ")\n",
    "# 加载MNIST数据集的测试集\n",
    "test_data = datasets.FashionMNIST(\n",
    "    root=\"data\",\n",
    "    train=False,\n",
    "    download=True,\n",
    "    transform=ToTensor(),\n",
    ")\n",
    " \n",
    "# batch大小\n",
    "batch_size = 64\n",
    " \n",
    "# 创建dataloader\n",
    "train_dataloader = DataLoader(training_data, batch_size=batch_size)\n",
    "test_dataloader = DataLoader(test_data, batch_size=batch_size)\n",
    " \n",
    "# 遍历dataloader\n",
    "for X, y in test_dataloader:\n",
    "    print(\"Shape of X [N, C, H, W]: \", X.shape)     # 每个batch数据的形状\n",
    "    print(\"Shape of y: \", y.shape)                  # 每个batch标签的形状\n",
    "    break"
   ]
  },
  {
   "cell_type": "code",
   "execution_count": 8,
   "metadata": {},
   "outputs": [
    {
     "name": "stdout",
     "output_type": "stream",
     "text": [
      "Using cuda device\n",
      "NeuralNetwork(\n",
      "  (flatten): Flatten(start_dim=1, end_dim=-1)\n",
      "  (linear_relu_stack): Sequential(\n",
      "    (0): Linear(in_features=784, out_features=512, bias=True)\n",
      "    (1): ReLU()\n",
      "    (2): Linear(in_features=512, out_features=512, bias=True)\n",
      "    (3): ReLU()\n",
      "    (4): Linear(in_features=512, out_features=10, bias=True)\n",
      "  )\n",
      ")\n"
     ]
    }
   ],
   "source": [
    " # ----------模型----------\n",
    "# 定义模型\n",
    "class NeuralNetwork(nn.Module):\n",
    "    def __init__(self):     # 初始化，实例化模型的时候就会调用\n",
    "        super(NeuralNetwork, self).__init__()\n",
    "        self.flatten = nn.Flatten()     # [64, 1, 28, 28] -> [64, 1*28*28]\n",
    "        self.linear_relu_stack = nn.Sequential(\n",
    "            nn.Linear(28*28, 512),      # [64, 1*28*28] -> [64, 512]\n",
    "            nn.ReLU(),\n",
    "            nn.Linear(512, 512),        # [64, 512] -> [64, 512]\n",
    "            nn.ReLU(),\n",
    "            nn.Linear(512, 10)          # [64, 512] -> [64, 10]\n",
    "        )\n",
    " \n",
    "    def forward(self, x):   # 前向传播，输入数据进网络的时候才会调用\n",
    "        x = self.flatten(x)                     # [64, 1*28*28]\n",
    "        logits = self.linear_relu_stack(x)      # [64, 10]\n",
    "        return logits\n",
    " \n",
    "# 使用gpu或者cpu进行训练\n",
    "device = \"cuda\" if torch.cuda.is_available() else \"cpu\"\n",
    "# 打印使用的是gpu/cpu\n",
    "print(\"Using {} device\".format(device))\n",
    "# 实例化模型\n",
    "model = NeuralNetwork().to(device)\n",
    "# 打印模型结构\n",
    "print(model)"
   ]
  },
  {
   "cell_type": "code",
   "execution_count": 9,
   "metadata": {},
   "outputs": [],
   "source": [
    "# ----------训练参数设置----------\n",
    "loss_fn = nn.CrossEntropyLoss()                             # 损失函数设置\n",
    "optimizer = torch.optim.SGD(model.parameters(), lr=1e-3)    # 学习率设置\n",
    "epochs = 5                                                  # 训练迭代次数设置"
   ]
  },
  {
   "cell_type": "code",
   "execution_count": 10,
   "metadata": {},
   "outputs": [],
   "source": [
    " # 训练函数\n",
    "def train(train_dataloader, model, loss_fn, optimizer):\n",
    "    \"\"\"\n",
    "        训练网络\n",
    "        输入:\n",
    "            train_dataloader:   训练集的dataloader\n",
    "            model:              网络模型\n",
    "            loss_fn:            损失函数\n",
    "            optimizer:          优化器\n",
    "        \"\"\"\n",
    "    # 切换到train模式\n",
    "    model.train()\n",
    "    # 遍历dataloader\n",
    "    for images, labels in train_dataloader:\n",
    "        # 将数据和标签加载到device上\n",
    "        images, labels = images.to(device), labels.to(device)\n",
    "        # 输入数据到模型里得到输出\n",
    "        pred = model(images)\n",
    "        # 计算输出和标签的loss\n",
    "        loss = loss_fn(pred, labels)\n",
    "        # 反向推导\n",
    "        optimizer.zero_grad()\n",
    "        loss.backward()\n",
    "        # 步进优化器\n",
    "        optimizer.step()\n",
    " \n",
    " \n",
    "# 测试函数\n",
    "def test(test_dataloader, model, loss_fn):\n",
    "    \"\"\"\n",
    "        测试网络\n",
    "        输入:\n",
    "            test_dataloader:    测试集的dataloader\n",
    "            model:              网络模型\n",
    "            loss_fn:            损失函数\n",
    "        \"\"\"\n",
    "    # 测试集大小\n",
    "    size = len(test_dataloader.dataset)\n",
    "    # 测试集的batch数量\n",
    "    num_batches = len(test_dataloader)\n",
    "    # 切换到测试模型\n",
    "    model.eval()\n",
    "    # 记录loss和准确率\n",
    "    test_loss, correct = 0, 0\n",
    "    # 梯度截断\n",
    "    with torch.no_grad():\n",
    "        for images, labels in test_dataloader:  # 遍历batch\n",
    "            # 加载到device\n",
    "            images, labels = images.to(device), labels.to(device)\n",
    "            # 输入数据到模型里得到输出\n",
    "            pred = model(images)\n",
    "            # 累加loss\n",
    "            test_loss += loss_fn(pred, labels).item()\n",
    "            # 累加正确率\n",
    "            correct += (pred.argmax(1) == labels).sum().item()\n",
    "    # 计算平均loss和准确率\n",
    "    test_loss /= num_batches\n",
    "    correct /= size\n",
    "    print(f\"Test Error: \\n Accuracy: {(100 * correct):>0.1f}%, Avg loss: {test_loss:>8f} \\n\")"
   ]
  },
  {
   "cell_type": "code",
   "execution_count": 11,
   "metadata": {},
   "outputs": [
    {
     "data": {
      "text/plain": [
       "<All keys matched successfully>"
      ]
     },
     "execution_count": 11,
     "metadata": {},
     "output_type": "execute_result"
    }
   ],
   "source": [
    "# 保存模型\n",
    "torch.save(model.state_dict(), \"model.pth\")\n",
    "# 加载模型\n",
    "model = NeuralNetwork()\n",
    "model.load_state_dict(torch.load(\"model.pth\"))"
   ]
  },
  {
   "cell_type": "code",
   "execution_count": 3,
   "metadata": {},
   "outputs": [
    {
     "name": "stdout",
     "output_type": "stream",
     "text": [
      "/usr/local/cuda-11\n",
      "11.3\n"
     ]
    }
   ],
   "source": [
    "# pytorch 实际使用的运行时的 CUDA 目录\n",
    "import torch.utils.cpp_extension\n",
    "print(torch.utils.cpp_extension.CUDA_HOME)  #会打印出CUDA的目录，如 /usr/local/cuda\n",
    "\n",
    "# # 编译时使用的 cuda 版本\n",
    "print(torch.version.cuda)  # 就是conda环境中安装pytorch时候安装的cuda版本\n"
   ]
  }
 ],
 "metadata": {
  "kernelspec": {
   "display_name": "ML_learn",
   "language": "python",
   "name": "python3"
  },
  "language_info": {
   "codemirror_mode": {
    "name": "ipython",
    "version": 3
   },
   "file_extension": ".py",
   "mimetype": "text/x-python",
   "name": "python",
   "nbconvert_exporter": "python",
   "pygments_lexer": "ipython3",
   "version": "3.9.19"
  },
  "orig_nbformat": 4
 },
 "nbformat": 4,
 "nbformat_minor": 2
}
