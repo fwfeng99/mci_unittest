{
 "cells": [
  {
   "cell_type": "markdown",
   "metadata": {},
   "source": [
    "## Basic Learning"
   ]
  },
  {
   "cell_type": "code",
   "execution_count": 2,
   "metadata": {},
   "outputs": [],
   "source": [
    "import torch\n",
    "import numpy as np"
   ]
  },
  {
   "cell_type": "code",
   "execution_count": 45,
   "metadata": {},
   "outputs": [
    {
     "name": "stdout",
     "output_type": "stream",
     "text": [
      "140705590539632\n",
      "140705590540592\n",
      "140705590539056\n",
      "140705590539632\n"
     ]
    }
   ],
   "source": [
    "a = np.array([1,2,3])\n",
    "print(id(a))\n",
    "b = np.array([1,2,3])\n",
    "print(id(b))\n",
    "a = np.append(a, b)\n",
    "print(id(a))\n",
    "d = np.ones(150)\n",
    "print(id(d))"
   ]
  },
  {
   "cell_type": "code",
   "execution_count": 46,
   "metadata": {},
   "outputs": [
    {
     "data": {
      "text/plain": [
       "-960"
      ]
     },
     "execution_count": 46,
     "metadata": {},
     "output_type": "execute_result"
    }
   ],
   "source": [
    "140705590539632 - 140705590540592"
   ]
  },
  {
   "cell_type": "code",
   "execution_count": 47,
   "metadata": {},
   "outputs": [
    {
     "data": {
      "text/plain": [
       "1536"
      ]
     },
     "execution_count": 47,
     "metadata": {},
     "output_type": "execute_result"
    }
   ],
   "source": [
    "140705590540592 - 140705590539056"
   ]
  },
  {
   "cell_type": "code",
   "execution_count": 13,
   "metadata": {},
   "outputs": [
    {
     "name": "stdout",
     "output_type": "stream",
     "text": [
      "140705618213520\n",
      "86427840\n"
     ]
    }
   ],
   "source": [
    "c = torch.tensor([[1, 2, 3], [4, 5, 6]])\n",
    "print(id(c))\n",
    "print(c.data_ptr())"
   ]
  },
  {
   "cell_type": "code",
   "execution_count": 5,
   "metadata": {},
   "outputs": [],
   "source": [
    "d1 = np.random.rand(3, 2)\n",
    "d2 = torch.from_numpy(d1)"
   ]
  },
  {
   "cell_type": "code",
   "execution_count": 9,
   "metadata": {},
   "outputs": [
    {
     "data": {
      "text/plain": [
       "tensor([[0.3824, 1.6770],\n",
       "        [1.2489, 1.3509],\n",
       "        [0.3036, 0.5950]], dtype=torch.float64)"
      ]
     },
     "execution_count": 9,
     "metadata": {},
     "output_type": "execute_result"
    }
   ],
   "source": [
    "d2.mul_(2)"
   ]
  },
  {
   "cell_type": "code",
   "execution_count": 17,
   "metadata": {},
   "outputs": [
    {
     "name": "stdout",
     "output_type": "stream",
     "text": [
      "140511536884784\n",
      "140511562967216\n"
     ]
    }
   ],
   "source": [
    "print(id(d1))\n",
    "print(id(d2))"
   ]
  },
  {
   "cell_type": "code",
   "execution_count": 39,
   "metadata": {},
   "outputs": [],
   "source": [
    "class Token:\n",
    "    def __init__(self, word):\n",
    "        self.count = 0\n",
    "        self.word = word\n",
    "\n",
    "    def __repr__(self):\n",
    "        \"\"\"A string representation of the token\"\"\"\n",
    "        return \"Token(word='{}', count={})\".format(self.word, self.count)\n",
    "    \n",
    "    def __len__(self):\n",
    "        \"\"\"The length of the token\"\"\"\n",
    "        return len(self.word) * 2"
   ]
  },
  {
   "cell_type": "code",
   "execution_count": 40,
   "metadata": {},
   "outputs": [],
   "source": [
    "word = \"ArithmeticError\"\n",
    "token = Token(word=word)"
   ]
  },
  {
   "cell_type": "code",
   "execution_count": 41,
   "metadata": {},
   "outputs": [
    {
     "data": {
      "text/plain": [
       "\"Token(word='ArithmeticError', count=0)\""
      ]
     },
     "execution_count": 41,
     "metadata": {},
     "output_type": "execute_result"
    }
   ],
   "source": [
    "repr(token)"
   ]
  },
  {
   "cell_type": "code",
   "execution_count": 42,
   "metadata": {},
   "outputs": [
    {
     "data": {
      "text/plain": [
       "30"
      ]
     },
     "execution_count": 42,
     "metadata": {},
     "output_type": "execute_result"
    }
   ],
   "source": [
    "token.__len__()"
   ]
  },
  {
   "cell_type": "code",
   "execution_count": 45,
   "metadata": {},
   "outputs": [
    {
     "name": "stdout",
     "output_type": "stream",
     "text": [
      "positional-only argument =  10\n",
      "positional_or_keyword argument =  20\n",
      "var_positional argument =  (30, 40, 50)\n",
      "keyword-only argument =  60\n",
      "var_keyword argument =  {'a': 10, 'b': 20, 'c': 30, 'd': 40}\n"
     ]
    }
   ],
   "source": [
    "def f(p_arg, /, p_kw_arg, *args, kw_arg, **kwargs):\n",
    "    print('positional-only argument = ', p_arg)\n",
    "    print('positional_or_keyword argument = ', p_kw_arg)\n",
    "    print('var_positional argument = ', args)\n",
    "    print('keyword-only argument = ', kw_arg)\n",
    "    print('var_keyword argument = ', kwargs)\n",
    "\n",
    "f(10, 20, 30, 40, 50, kw_arg=60, a=10, b=20, c=30, d=40)"
   ]
  },
  {
   "cell_type": "code",
   "execution_count": null,
   "metadata": {},
   "outputs": [],
   "source": []
  }
 ],
 "metadata": {
  "kernelspec": {
   "display_name": "ML_learn",
   "language": "python",
   "name": "python3"
  },
  "language_info": {
   "codemirror_mode": {
    "name": "ipython",
    "version": 3
   },
   "file_extension": ".py",
   "mimetype": "text/x-python",
   "name": "python",
   "nbconvert_exporter": "python",
   "pygments_lexer": "ipython3",
   "version": "3.9.19"
  },
  "orig_nbformat": 4
 },
 "nbformat": 4,
 "nbformat_minor": 2
}
