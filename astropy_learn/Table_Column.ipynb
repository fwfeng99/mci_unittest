{
 "cells": [
  {
   "cell_type": "code",
   "execution_count": 1,
   "metadata": {},
   "outputs": [],
   "source": [
    "from astropy.io import fits\n",
    "from astropy import units as u\n",
    "from astropy.table import Table, Column, MaskedColumn\n",
    "from astropy.time import Time\n",
    "from astropy.coordinates import SkyCoord, Distance\n",
    "from astroquery.vizier import Vizier\n",
    "import numpy as np"
   ]
  },
  {
   "cell_type": "code",
   "execution_count": 2,
   "metadata": {},
   "outputs": [],
   "source": [
    "def gaiadr3_query(\n",
    "    ra: list,\n",
    "    dec: list,\n",
    "    rad: float = 1.0,\n",
    "    maxmag: float = 25,\n",
    "    maxsources: float = 1000000,\n",
    "):\n",
    "    \"\"\"\n",
    "    Acquire the Gaia DR3.\n",
    "\n",
    "    Uses astroquery.vizier to query the Gaia Data Release 3 (DR3) catalog based on given right ascension (RA), declination (Dec), and other criteria.\n",
    "\n",
    "    Parameters\n",
    "    ----------\n",
    "    ra : list\n",
    "        RA of center in degrees.\n",
    "    dec : list\n",
    "        Dec of center in degrees.\n",
    "    rad : float\n",
    "        Search radius in degrees.\n",
    "    maxmag : float\n",
    "        Maximum magnitude limit.\n",
    "    maxsources : float\n",
    "        Maximum number of sources to return.\n",
    "\n",
    "    Returns\n",
    "    -------\n",
    "    Table\n",
    "        table of reference catalog.\n",
    "\n",
    "    Examples\n",
    "    --------\n",
    "    >>> catalog = gaiadr3_query(ra, dec, rad, maxmag, maxsources)\n",
    "    \"\"\"\n",
    "    # Astrometry-related parameters and constraints\n",
    "    vquery = Vizier(\n",
    "        columns=[\"RA_ICRS\", \"DE_ICRS\", \"pmRA\", \"pmDE\", \"Plx\", \"RVDR2\", \"Gmag\"],\n",
    "        row_limit=maxsources,\n",
    "        column_filters={\"Gmag\": (\"<%f\" % maxmag), \"Plx\": \">0\"},\n",
    "    )\n",
    "\n",
    "    # The GaiaDR3 sources in the sky field\n",
    "    coord = SkyCoord(ra=ra, dec=dec, unit=u.deg, frame=\"icrs\")\n",
    "\n",
    "    # The GaiaDR3 sources in the sky field\n",
    "    result = vquery.query_region(coord, radius=rad * u.deg, catalog=\"I/355/gaiadr3\")\n",
    "    table = result[0]\n",
    "\n",
    "    return table"
   ]
  },
  {
   "cell_type": "markdown",
   "metadata": {},
   "source": [
    "## Image"
   ]
  },
  {
   "cell_type": "code",
   "execution_count": 3,
   "metadata": {},
   "outputs": [],
   "source": [
    "img_path = \"\\\\nfsdata\\share\\pipeline-unittest\\csst_mci\\csst_mci_instrument\\CSST_MCI_C1_EXDF_20240419024541_20240419025041_20100000001_07_L1_V01_img.fits\".replace(\"\\\\\", \"/\")"
   ]
  },
  {
   "cell_type": "code",
   "execution_count": 4,
   "metadata": {},
   "outputs": [],
   "source": [
    "img_hdul = fits.open(img_path)"
   ]
  },
  {
   "cell_type": "code",
   "execution_count": 5,
   "metadata": {},
   "outputs": [
    {
     "data": {
      "text/plain": [
       "[<astropy.io.fits.hdu.image.PrimaryHDU object at 0x7fa180061150>, <astropy.io.fits.hdu.image.ImageHDU object at 0x7fa1a806ec10>]"
      ]
     },
     "execution_count": 5,
     "metadata": {},
     "output_type": "execute_result"
    }
   ],
   "source": [
    "img_hdul"
   ]
  },
  {
   "cell_type": "code",
   "execution_count": 6,
   "metadata": {},
   "outputs": [
    {
     "data": {
      "text/plain": [
       "SIMPLE  =                    T / conforms to FITS standard                      \n",
       "BITPIX  =                    8 / array data type                                \n",
       "NAXIS   =                    0 / number of array dimensions                     \n",
       "EXTEND  =                    T                                                  \n",
       "NEXTEND =                    1 / number of array dimensions                     \n",
       "DATE    = '2024-04-19T03:57:42.8' / written date (yyyy-mm-ddThh:mm:ss.s)        \n",
       "FILENAME= 'CSST_MCI_C1_EXDF_20240419024541_20240419025041_20100000001_07_L0_V01'\n",
       "FILETYPE= 'EXDF    '           / observation type                               \n",
       "TELESCOP= 'CSST    '           / telescope name                                 \n",
       "INSTRUME= 'MCI     '           / instrument name                                \n",
       "RADECSYS= 'ICRS    '           / coordinate system of the object                \n",
       "EQUINOX =               2000.0                                                  \n",
       "FITSSWV = 'mci_sim_0.8.03'     / FITS creating software version                 \n",
       "COMMENT ========================================================================\n",
       "COMMENT OBJECT INFORMATION                                                      \n",
       "COMMENT ========================================================================\n",
       "OBJECT  = 'MCI_obj '           / object name                                    \n",
       "TARGET  = '074443.3+392523'    / target name (hhmmss.s+ddmmss)                  \n",
       "OBSID   = '20100000001'        / observation ID                                 \n",
       "RA_OBJ  =   116.18081536720157 / object RA (deg)                                \n",
       "DEC_OBJ =    39.42316681016602 / object Dec (deg)                               \n",
       "COMMENT ========================================================================\n",
       "COMMENT TELESCOPE INFORMATION                                                   \n",
       "COMMENT ========================================================================\n",
       "REFFRAME= 'CSSTGSC-1.0'        / guiding catalog version                        \n",
       "DATE-OBS= '2024-04-19T03:57:42.8' / observation date (yyyy-mm-ddThh:mm:ss.s)    \n",
       "SATESWV = 'softwave-1.0'       / satellite software version                     \n",
       "EXPSTART=    60419.11506944011 / exposure start time (MJD)                      \n",
       "CABSTART=     2460419.61506944 / first cabin time after exposure start (MJD)    \n",
       "SUNANGL0=                  0.0 / angle between the Sun and opt axis at CABSTART \n",
       "MOONANG0=                  0.0 / angle between the Moon and opt axis at CABSTART\n",
       "TEL_ALT0=                  0.0 / angle between opt axis and Elimb at CABSTART   \n",
       "POS_ANG0=                  0.0 / angle between y axis and North Pole at CABSTART\n",
       "POSI0_X =          4816.237571 / orbital position in X at CABSTART (km)         \n",
       "POSI0_Y =          1403.140081 / orbital position in Y at CABSTART (km)         \n",
       "POSI0_Z =         -4533.588302 / orbital position in Z at CABSTART (km)         \n",
       "VELO0_X =            -1.322491 / orbital velocity in X at CABSTART (km/s)       \n",
       "VELO0_Y =             7.505376 / orbital velocity in Y at CABSTART (km/s)       \n",
       "VELO0_Z =             0.910404 / orbital velocity in Z at CABSTART (km/s)       \n",
       "EULER0_1=                  0.0 / Euler angle 1 at CABSTART (deg)                \n",
       "EULER0_2=                  0.0 / Euler angle 2 at CABSTART (deg)                \n",
       "EULER0_3=                  0.0 / Euler angle 3 at CABSTART (deg)                \n",
       "RA_PNT0 =   116.18081536720157 / pointing RA at CABSTART (deg)                  \n",
       "DEC_PNT0=    39.42316681016602 / pointing Dec at CABSTART (deg)                 \n",
       "EXPEND  =    60419.11854166233 / exposure end time (MJD)                        \n",
       "CABEND  =    2460419.618541662 / first cabin time after exposure end (MJD)      \n",
       "SUNANGL1=                  0.0 / angle between the Sun and opt axis at CABEND   \n",
       "MOONANG1=                  0.0 / angle between the Moon and opt axis at CABEND  \n",
       "TEL_ALT1=                  0.0 / angle between opt axis and Elimb at CABEND     \n",
       "POS_ANG1=                  0.0 / angle between y axis and North Pole at CABEND  \n",
       "POSI1_X =           4141.22647 / orbital position in X at CABEND (km)           \n",
       "POSI1_Y =   3522.8736685000003 / orbital position in Y at CABEND (km)           \n",
       "POSI1_Z =         -3995.621124 / orbital position in Z at CABEND (km)           \n",
       "VELO1_X =           -3.0635205 / orbital velocity in X at CABEND (km/s)         \n",
       "VELO1_Y =             6.528308 / orbital velocity in Y at CABEND (km/s)         \n",
       "VELO1_Z =            2.5738965 / orbital velocity in Z at CABEND (km/s)         \n",
       "EULER1_1=                  0.0 / Euler angle 1 at CABEND (deg)                  \n",
       "EULER1_2=                  0.0 / Euler angle 2 at CABEND (deg)                  \n",
       "EULER1_3=                  0.0 / Euler angle 3 at CABEND (deg)                  \n",
       "RA_PNT1 =   116.18081536720157 / pointing RA at CABEND (deg)                    \n",
       "DEC_PNT1=    39.42316681016602 / pointing Dec at CABEND (deg)                   \n",
       "EPOCH   =            2460419.8 / equinox of pointing RA and Dec                 \n",
       "COMMENT ========================================================================\n",
       "COMMENT VERIFICATION INFORMATION                                                \n",
       "COMMENT ========================================================================\n",
       "EXPTIME =                300.0 / exposure time (s)                              \n",
       "CHECKSUM= 'OQAaRQ9YOQAaOQ9W'   / HDU checksum updated 2024-04-19T11:57:42       \n",
       "DATASUM = '0       '           / data unit checksum updated 2024-04-19T11:57:42 "
      ]
     },
     "execution_count": 6,
     "metadata": {},
     "output_type": "execute_result"
    }
   ],
   "source": [
    "img_hdul[0].header"
   ]
  },
  {
   "cell_type": "code",
   "execution_count": 7,
   "metadata": {},
   "outputs": [],
   "source": [
    "img_hdul[0].data"
   ]
  },
  {
   "cell_type": "code",
   "execution_count": 8,
   "metadata": {},
   "outputs": [
    {
     "data": {
      "text/plain": [
       "XTENSION= 'IMAGE   '           / Image extension                                \n",
       "BITPIX  =                  -32 / array data type                                \n",
       "NAXIS   =                    2 / number of array dimensions                     \n",
       "NAXIS1  =                 9216                                                  \n",
       "NAXIS2  =                 9232                                                  \n",
       "PCOUNT  =                    0 / number of parameters                           \n",
       "GCOUNT  =                    1 / number of groups                               \n",
       "EXTNAME = 'SCI     '                                                            \n",
       "EXTVER  =                    1                                                  \n",
       "BUNIT   = 'e/s     '           / physical unit of array values                  \n",
       "COMMENT ========================================================================\n",
       "COMMENT FILE INFORMATION                                                        \n",
       "COMMENT ========================================================================\n",
       "DATE    = '2024-04-19T03:57:42.9' / written date (yyyy-mm-ddThh:mm:ss.s)        \n",
       "FILENAME= 'CSST_MCI_C1_EXDF_20240419024541_20240419025041_20100000001_07_L0_V01'\n",
       "FILETYPE= 'EXDF    '           / observation type                               \n",
       "RADECSYS= 'ICRS    '           / coordinate system of the object                \n",
       "EQUINOX =               2000.1                                                  \n",
       "FITSSWV = '4.2.1   '           / FITS creating software version                 \n",
       "COMMENT ========================================================================\n",
       "COMMENT INSTRUMENT STATUS AND OBJECT INFORMATION                                \n",
       "COMMENT ========================================================================\n",
       "TELESCOP= 'CSST    '           / telescope name                                 \n",
       "INSTRUME= 'MCI     '           / instrument name                                \n",
       "CHANNEL = 'C1      '           / channel number                                 \n",
       "FILTERNO= '07      '           / filter number                                  \n",
       "DIFFUSER=                    T / insert diffuser status for flat calibration    \n",
       "FLAMP   =                    0 / status of flat lamp                            \n",
       "MCISTAT =                    0 / MCI components status parameter                \n",
       "DATE-OBS= '2024-04-19T03:57:42.9' / observation date (yyyy-mm-ddThh:mm:ss.s)    \n",
       "OBJECT  = 'MCI_obj '           / object name                                    \n",
       "TARGET  = '074443.3+392523'    / target name (hhmmss.s+ddmmss)                  \n",
       "OBSID   = '20100000001'        / observation ID                                 \n",
       "RA_OBJ  =   116.18081536720157 / object RA (deg)                                \n",
       "DEC_OBJ =    39.42316681016602 / object Dec (deg)                               \n",
       "COMMENT ========================================================================\n",
       "COMMENT DETECTOR AND FILTER INFORMATION                                         \n",
       "COMMENT ========================================================================\n",
       "FILTER  = 'u       '           / filter band                                    \n",
       "DETSN   = 'E2V-CCD-290-0000000' / detector serial number                        \n",
       "DETNAME = 'uv      '           / detector name                                  \n",
       "DETTEMP0=                  0.0 / detector temperature at EXPSTART (K)           \n",
       "DETTEMP1=                  0.0 / detector temperature at EXPEND (K)             \n",
       "DETTEMP2=                  0.0 / detector temperature at READT1 (K)             \n",
       "DETSIZE = '9232*9216'          / detector size                                  \n",
       "DATASECT= '4936*23984'         / data section                                   \n",
       "PIXSCAL1=                 0.05 / pixel scale for axis 1 (arcsec/pixel)          \n",
       "PIXSCAL2=                 0.05 / pixel scale for axis 2 (arcsec/pixel)          \n",
       "PIXSIZE1=                   10 / pixel size for axis 1 (micron)                 \n",
       "PIXSIZE2=                   10 / pixel size for axis 2 (micron)                 \n",
       "NCHANNEL=                   16 / number of readout channels                     \n",
       "PSCAN1  =                   27 / horizontal prescan width, per readout channel  \n",
       "PSCAN2  =                    0 / vertical prescan width, per readout channel    \n",
       "OSCAN1  =                  320 / horizontal overscan width, per readout channel \n",
       "OSCAN2  =                  320 / vertical overscan width, per readout channel   \n",
       "BIN_X   =                    1 / bin number in X                                \n",
       "BIN_Y   =                    1 / bin number in Y                                \n",
       "COMMENT ========================================================================\n",
       "COMMENT WORLD COORDINATE SYSTEM INFORMATION                                     \n",
       "COMMENT ========================================================================\n",
       "WCSAXES =                    2 / number of WCS axes                             \n",
       "CRPIX1  =               4607.5 / x-coordinate of reference pixel                \n",
       "CRPIX2  =               4615.5 / y-coordinate of reference pixel                \n",
       "CRVAL1  =   116.18081536720157 / value of reference pixel on axis 1             \n",
       "CRVAL2  =    39.42316681016602 / value of reference pixel on axis 2             \n",
       "CTYPE1  = 'RA---TAN'           / type of RA WCS projection                      \n",
       "CTYPE2  = 'DEC--TAN'           / type of Dec WCS projection                     \n",
       "CD1_1   = -1.3888888888888E-05 / transformation matrix element (deg/pix)        \n",
       "CD1_2   =                 -0.0 / transformation matrix element (deg/pix)        \n",
       "CD2_1   =                 -0.0 / transformation matrix element (deg/pix)        \n",
       "CD2_2   = 1.38888888888888E-05 / transformation matrix element (deg/pix)        \n",
       "COMMENT ========================================================================\n",
       "COMMENT READOUT INFORMATION                                                     \n",
       "COMMENT ========================================================================\n",
       "GAINLVL =                  1.5 / gain level (e-/ADU)                            \n",
       "GAIN01  =                 1.53 / CCD gain [channel 1] (e-/ADU)                  \n",
       "GAIN02  =                 1.54 / CCD gain [channel 2] (e-/ADU)                  \n",
       "GAIN03  =                 1.55 / CCD gain [channel 3] (e-/ADU)                  \n",
       "GAIN04  =                 1.53 / CCD gain [channel 4] (e-/ADU)                  \n",
       "GAIN05  =                 1.51 / CCD gain [channel 5] (e-/ADU)                  \n",
       "GAIN06  =                 1.56 / CCD gain [channel 6] (e-/ADU)                  \n",
       "GAIN07  =                 1.58 / CCD gain [channel 7] (e-/ADU)                  \n",
       "GAIN08  =                 1.53 / CCD gain [channel 8] (e-/ADU)                  \n",
       "GAIN09  =                 1.54 / CCD gain [channel 9] (e-/ADU)                  \n",
       "GAIN10  =                 1.57 / CCD gain [channel 10] (e-/ADU)                 \n",
       "GAIN11  =                 1.51 / CCD gain [channel 11] (e-/ADU)                 \n",
       "GAIN12  =                 1.53 / CCD gain [channel 12] (e-/ADU)                 \n",
       "GAIN13  =                 1.55 / CCD gain [channel 13] (e-/ADU)                 \n",
       "GAIN14  =                 1.57 / CCD gain [channel 14] (e-/ADU)                 \n",
       "GAIN15  =                 1.53 / CCD gain [channel 15] (e-/ADU)                 \n",
       "GAIN16  =                 1.52 / CCD gain [channel 16] (e-/ADU)                 \n",
       "RON01   =                 4.53 / readout noise [channel 01] (e-)                \n",
       "RON02   =                 4.54 / readout noise [channel 02] (e-)                \n",
       "RON03   =                 4.55 / readout noise [channel 03] (e-)                \n",
       "RON04   =                 4.53 / readout noise [channel 04] (e-)                \n",
       "RON05   =                 4.51 / readout noise [channel 05] (e-)                \n",
       "RON06   =                 4.56 / readout noise [channel 06] (e-)                \n",
       "RON07   =                 4.58 / readout noise [channel 07] (e-)                \n",
       "RON08   =                 4.53 / readout noise [channel 08] (e-)                \n",
       "RON09   =                 4.54 / readout noise [channel 09] (e-)                \n",
       "RON10   =                 4.57 / readout noise [channel 10] (e-)                \n",
       "RON11   =                 4.51 / readout noise [channel 11] (e-)                \n",
       "RON12   =                 4.53 / readout noise [channel 12] (e-)                \n",
       "RON13   =                 4.55 / readout noise [channel 13] (e-)                \n",
       "RON14   =                 4.57 / readout noise [channel 14] (e-)                \n",
       "RON15   =                 4.53 / readout noise [channel 15] (e-)                \n",
       "RON16   =                 4.52 / readout noise [channel 16] (e-)                \n",
       "DETBIA01=                500.0 / amplifier bias grey value [channel 1] (ADU)    \n",
       "DETBIA02=                510.0 / amplifier bias grey value [channel 2] (ADU)    \n",
       "DETBIA03=                514.0 / amplifier bias grey value [channel 3] (ADU)    \n",
       "DETBIA04=                520.0 / amplifier bias grey value [channel 4] (ADU)    \n",
       "DETBIA05=                524.0 / amplifier bias grey value [channel 5] (ADU)    \n",
       "DETBIA06=                540.0 / amplifier bias grey value [channel 6] (ADU)    \n",
       "DETBIA07=                530.0 / amplifier bias grey value [channel 7] (ADU)    \n",
       "DETBIA08=                532.0 / amplifier bias grey value [channel 8] (ADU)    \n",
       "DETBIA09=                534.0 / amplifier bias grey value [channel 9] (ADU)    \n",
       "DETBIA10=                526.0 / amplifier bias grey value [channel 10] (ADU)   \n",
       "DETBIA11=                532.0 / amplifier bias grey value [channel 11] (ADU)   \n",
       "DETBIA12=                516.0 / amplifier bias grey value [channel 12] (ADU)   \n",
       "DETBIA13=                540.0 / amplifier bias grey value [channel 13] (ADU)   \n",
       "DETBIA14=                560.0 / amplifier bias grey value [channel 14] (ADU)   \n",
       "DETBIA15=                536.0 / amplifier bias grey value [channel 15] (ADU)   \n",
       "DETBIA16=                528.0 / amplifier bias grey value [channel 16] (ADU)   \n",
       "ROSPEED =                100.0 / readout speed (MHz)                            \n",
       "COMMENT ========================================================================\n",
       "COMMENT EXPOSURE AND SHUTTER INFORMATION                                        \n",
       "COMMENT ========================================================================\n",
       "EXPSTART=    60419.11506944011 / exposure start time (MJD)                      \n",
       "EXPEND  =    60419.11854166233 / exposure end time (MJD)                        \n",
       "EXPTIME =                300.0 / exposure time (s)                              \n",
       "DARKTIME=                300.0 / dark current time (s)                          \n",
       "SHTSTAT =                    T / shutter status                                 \n",
       "COMMENT ========================================================================\n",
       "COMMENT SATELLITE AND ITS ATTITUDE INFORMATION                                  \n",
       "COMMENT ========================================================================\n",
       "REFFRAME= 'CSSTGSC-1.0'        / guiding catalog version                        \n",
       "SATESWV = 'softwave-1.0'       / satellite software version                     \n",
       "CABSTART=     2460419.61506944 / first cabin time after exposure start (MJD)    \n",
       "SUNANGL0=                  0.0 / angle between the Sun and opt axis at CABSTART \n",
       "MOONANG0=                  0.0 / angle between the Moon and opt axis at CABSTART\n",
       "TEL_ALT0=                  0.0 / angle between opt axis and Elimb at CABSTART   \n",
       "POS_ANG0=                  0.0 / angle between y axis and North Pole at CABSTART\n",
       "POSI0_X =          4816.237571 / orbital position in X at CABSTART (km)         \n",
       "POSI0_Y =          1403.140081 / orbital position in Y at CABSTART (km)         \n",
       "POSI0_Z =         -4533.588302 / orbital position in Z at CABSTART (km)         \n",
       "VELO0_X =            -1.322491 / orbital velocity in X at CABSTART (km/s)       \n",
       "VELO0_Y =             7.505376 / orbital velocity in Y at CABSTART (km/s)       \n",
       "VELO0_Z =             0.910404 / orbital velocity in Z at CABSTART (km/s)       \n",
       "EULER0_1=                  0.0 / Euler angle 1 at CABSTART (deg)                \n",
       "EULER0_2=                  0.0 / Euler angle 2 at CABSTART (deg)                \n",
       "EULER0_3=                  0.0 / Euler angle 3 at CABSTART (deg)                \n",
       "RA_PNT0 =   116.18081536720157 / pointing RA at CABSTART (deg)                  \n",
       "DEC_PNT0=    39.42316681016602 / pointing Dec at CABSTART (deg)                 \n",
       "CABEND  =    2460419.618541662 / first cabin time after exposure end (MJD)      \n",
       "SUNANGL1=                  0.0 / angle between the Sun and opt axis at CABEND   \n",
       "MOONANG1=                  0.0 / angle between the Moon and opt axis at CABEND  \n",
       "TEL_ALT1=                  0.0 / angle between opt axis and Elimb at CABEND     \n",
       "POS_ANG1=                  0.0 / angle between y axis and North Pole at CABEND  \n",
       "POSI1_X =           4141.22647 / orbital position in X at CABEND (km)           \n",
       "POSI1_Y =   3522.8736685000003 / orbital position in Y at CABEND (km)           \n",
       "POSI1_Z =         -3995.621124 / orbital position in Z at CABEND (km)           \n",
       "VELO1_X =           -3.0635205 / orbital velocity in X at CABEND (km/s)         \n",
       "VELO1_Y =             6.528308 / orbital velocity in Y at CABEND (km/s)         \n",
       "VELO1_Z =            2.5738965 / orbital velocity in Z at CABEND (km/s)         \n",
       "EULER1_1=                  0.0 / Euler angle 1 at CABEND (deg)                  \n",
       "EULER1_2=                  0.0 / Euler angle 2 at CABEND (deg)                  \n",
       "EULER1_3=                  0.0 / Euler angle 3 at CABEND (deg)                  \n",
       "RA_PNT1 =   116.18081536720157 / pointing RA at CABEND (deg)                    \n",
       "DEC_PNT1=    39.42316681016602 / pointing Dec at CABEND (deg)                   \n",
       "EPOCH   =            2460419.8 / equinox of pointing RA and Dec                 \n",
       "CHECKSUM= 'KkhqMhgnKhgnKhgn'   / HDU checksum updated 2024-04-19T11:57:44       \n",
       "DATASUM = '873974752'          / data unit checksum updated 2024-04-19T11:57:44 \n",
       "COMMENT ========================================================================\n",
       "COMMENT VERIFICATION INFORMATION                                                \n",
       "COMMENT ========================================================================\n",
       "COMMENT ==================================================================      \n",
       "COMMENT Instrumental correction information                                     \n",
       "COMMENT ==================================================================      \n",
       "VER_INST= '0.0.2   '           / Version of instrument processing               \n",
       "STM_INST= 'Tue May 28 11:13:46 2024' / Time stamp of instrument processing      \n",
       "STA_BIAS=                    1 / Status flag for bias frame correction          \n",
       "STA_OSCN=                    0 / Status flag for overscan bias correction       \n",
       "STA_DARK=                    0 / Status flag for dark frame correction          \n",
       "STA_FLAT=                    0 / Status flag for flat frame correction          \n",
       "SKY_BKG =    4.225878370769898 / Estimated sky background (e-/s per pixel)      \n",
       "SKY_RMS =   0.9538982027298359 / Standard dev of frame background (ADU)-> e-/s  \n",
       "SATURATE=                300.0 / Flux limit of saturated pixel (e-/s)           \n",
       "STA_CTE =                    1 / Status flag for CTE correction                 \n",
       "STA_SAT =                    1 / Status flag for satellite correction           \n",
       "STA_CRS =                    1 / Status flag for cosmic rays mask               \n",
       "CRCOUNT =                -9999 / Cosmic rays counts                             \n",
       "STA_NLIN=                    0 / Status flag for non-linear correction          \n",
       "STA_SHUT=                    0 / Status flag for shutter effect correction      \n",
       "STA_FRNG=                    1 / Status flag for fringing effect correction     \n",
       "                                                                                \n",
       "                                                                                "
      ]
     },
     "execution_count": 8,
     "metadata": {},
     "output_type": "execute_result"
    }
   ],
   "source": [
    "img_hdul[1].header"
   ]
  },
  {
   "cell_type": "code",
   "execution_count": 9,
   "metadata": {},
   "outputs": [
    {
     "data": {
      "text/plain": [
       "array([[2.8623958, 3.2563713, 5.7914863, ..., 5.089698 , 2.245794 ,\n",
       "        5.6442103],\n",
       "       [3.8560715, 4.5986705, 3.9977348, ..., 3.7632573, 3.3575957,\n",
       "        4.6310725],\n",
       "       [2.458934 , 4.496589 , 4.8904715, ..., 4.168032 , 6.0553613,\n",
       "        2.1957495],\n",
       "       ...,\n",
       "       [4.1140184, 5.240286 , 3.364142 , ..., 4.1308312, 4.7383265,\n",
       "        3.1674178],\n",
       "       [4.0551357, 3.8175957, 3.4682097, ..., 3.2136004, 2.0385983,\n",
       "        4.587079 ],\n",
       "       [2.3401625, 2.9723327, 4.0057793, ..., 4.539656 , 2.7061558,\n",
       "        2.303656 ]], dtype='>f4')"
      ]
     },
     "execution_count": 9,
     "metadata": {},
     "output_type": "execute_result"
    }
   ],
   "source": [
    "img_hdul[1].data"
   ]
  },
  {
   "cell_type": "code",
   "execution_count": 10,
   "metadata": {},
   "outputs": [],
   "source": [
    "image_header = fits.getheader(img_path, ext=0)\n",
    "pointing_ra = image_header[\"RA_OBJ\"]\n",
    "pointing_dec = image_header[\"DEC_OBJ\"]\n",
    "refcat = gaiadr3_query(pointing_ra, pointing_dec, rad=2.0)"
   ]
  },
  {
   "cell_type": "code",
   "execution_count": 64,
   "metadata": {},
   "outputs": [
    {
     "data": {
      "text/plain": [
       "astropy.table.table.Table"
      ]
     },
     "execution_count": 64,
     "metadata": {},
     "output_type": "execute_result"
    }
   ],
   "source": [
    "type(refcat)"
   ]
  },
  {
   "cell_type": "code",
   "execution_count": 12,
   "metadata": {},
   "outputs": [],
   "source": [
    "refcat.remove_row(11443)"
   ]
  },
  {
   "cell_type": "code",
   "execution_count": 208,
   "metadata": {},
   "outputs": [
    {
     "data": {
      "text/plain": [
       "astropy.table.column.MaskedColumn"
      ]
     },
     "execution_count": 208,
     "metadata": {},
     "output_type": "execute_result"
    }
   ],
   "source": [
    "type(refcat[\"DE_ICRS\"])"
   ]
  },
  {
   "cell_type": "code",
   "execution_count": 223,
   "metadata": {},
   "outputs": [
    {
     "data": {
      "text/latex": [
       "$[2.2596,~0.923,~1.7342,~\\dots,~0.7872,~0.2548,~1.5644] \\; \\mathrm{}$"
      ],
      "text/plain": [
       "<Quantity [2.2596, 0.923 , 1.7342, ..., 0.7872, 0.2548, 1.5644]>"
      ]
     },
     "execution_count": 223,
     "metadata": {},
     "output_type": "execute_result"
    }
   ],
   "source": [
    "np.abs(refcat[\"Plx\"]).quantity"
   ]
  },
  {
   "cell_type": "markdown",
   "metadata": {},
   "source": [
    "## Reference catalog"
   ]
  },
  {
   "cell_type": "code",
   "execution_count": 215,
   "metadata": {},
   "outputs": [],
   "source": [
    "ref_path = \"\\\\nfsdata\\share\\pipeline-unittest\\csst_mci\\csst_mci_astrometry\\l1_proc_output\\gaiadr3.fits\".replace(\"\\\\\", \"/\")"
   ]
  },
  {
   "cell_type": "code",
   "execution_count": 216,
   "metadata": {},
   "outputs": [],
   "source": [
    "ref_hudl = fits.open(ref_path)"
   ]
  },
  {
   "cell_type": "code",
   "execution_count": 159,
   "metadata": {},
   "outputs": [
    {
     "name": "stderr",
     "output_type": "stream",
     "text": [
      "/home/fangwf/software/miniconda3/envs/csst_mci/lib/python3.11/site-packages/erfa/core.py:154: ErfaWarning: ERFA function \"pmsafe\" yielded 138 of \"distance overridden (Note 6)\", 1 of \"binary logical OR of the above warnings\"\n",
      "  warnings.warn('ERFA function \"{}\" yielded {}'.format(func_name, wmsg),\n"
     ]
    }
   ],
   "source": [
    "catalog = Table(ref_hudl[1].data)\n",
    "# ra = catalog[\"RA_ICRS\"] * u.deg\n",
    "# dec = catalog[\"DE_ICRS\"] * u.deg\n",
    "# parallax = catalog[\"Plx\"] * u.mas\n",
    "# pmra = catalog[\"pmRA\"] * u.mas\n",
    "# pmdec = catalog[\"pmDE\"] * u.mas\n",
    "\n",
    "ra = Column(name=\"RA_ICRS\", data=catalog[\"RA_ICRS\"], unit=u.deg)\n",
    "dec = Column(name=\"DE_ICRS\", data=catalog[\"DE_ICRS\"], unit=u.deg)\n",
    "parallax = Column(name=\"Plx\", data=catalog[\"Plx\"], unit=u.mas)\n",
    "parallax = refcat[\"Plx\"]\n",
    "# parallax = Column(name=\"Plx\", data=catalog[\"Plx\"], unit=u.mas)\n",
    "pmra = Column(name=\"pmRA\", data=catalog[\"pmRA\"], unit=u.mas / u.yr)\n",
    "pmdec = Column(name=\"pmDE\", data=catalog[\"pmDE\"], unit=u.mas / u.yr)\n",
    "# catalog = refcat\n",
    "# ra = catalog[\"RA_ICRS\"]\n",
    "# dec = catalog[\"DE_ICRS\"]\n",
    "# parallax = catalog[\"Plx\"]\n",
    "# pmra = catalog[\"pmRA\"]\n",
    "# pmdec = catalog[\"pmDE\"]\n",
    "# mag = catalog[\"Gmag\"]\n",
    "cut = (abs(pmra) > 0) & (abs(pmdec) > 0)\n",
    "c = SkyCoord(\n",
    "    ra=ra[cut],\n",
    "    dec=dec[cut],\n",
    "    distance=Distance(parallax=np.abs(parallax[cut]) * u.mas),\n",
    "    pm_ra_cosdec=pmra[cut],\n",
    "    pm_dec=pmdec[cut],\n",
    "    obstime=Time(2016.0, format=\"jyear\", scale=\"utc\"),\n",
    "    frame=\"icrs\",\n",
    ")\n",
    "\n",
    "# Set the reference epoch to 2000\n",
    "epochobs = Time(2000.0, format=\"jyear\", scale=\"utc\")\n",
    "# Compute the celestial positions at the epoch\n",
    "c_epoch_now = c.apply_space_motion(epochobs)"
   ]
  },
  {
   "cell_type": "code",
   "execution_count": 160,
   "metadata": {},
   "outputs": [],
   "source": [
    "# parallax = abs(refcat[\"Plx\"][cut]) * u.mas\n",
    "parallax = np.abs(Column(name=\"Plx\", data=catalog[\"Plx\"], unit=u.mas, format='{:9.4f}', description='? Parallax (parallax)')).quantity"
   ]
  },
  {
   "cell_type": "code",
   "execution_count": 199,
   "metadata": {},
   "outputs": [
    {
     "data": {
      "text/plain": [
       "astropy.table.column.Column"
      ]
     },
     "execution_count": 199,
     "metadata": {},
     "output_type": "execute_result"
    }
   ],
   "source": [
    "type(Column(name=\"Plx\", data=catalog[\"Plx\"], unit=u.mas))"
   ]
  },
  {
   "cell_type": "code",
   "execution_count": 162,
   "metadata": {},
   "outputs": [
    {
     "data": {
      "text/plain": [
       "<astropy.io.fits.hdu.image.PrimaryHDU at 0x7fa168b34750>"
      ]
     },
     "execution_count": 162,
     "metadata": {},
     "output_type": "execute_result"
    }
   ],
   "source": [
    "ref_hudl[0]"
   ]
  },
  {
   "cell_type": "code",
   "execution_count": 164,
   "metadata": {},
   "outputs": [
    {
     "data": {
      "text/plain": [
       "FITS_rec([(116.4613841 , 37.43569588, -1.152,  -4.863, 2.2596, 20.808371),\n",
       "          (116.28728873, 37.42637767, -7.179,  -2.302, 0.923 , 19.755737),\n",
       "          (116.26514877, 37.42503616, -6.796, -11.013, 1.7342, 17.05047 ),\n",
       "          ...,\n",
       "          (114.57579799, 40.98774444,  0.781,  -8.316, 0.7872, 14.156981),\n",
       "          (114.56369327, 40.99372598,  0.334,  -0.444, 0.2548, 17.488308),\n",
       "          (114.59090475, 40.99928735, 25.997, -35.978, 1.5644, 18.949257)],\n",
       "         dtype=(numpy.record, [('RA_ICRS', '>f8'), ('DE_ICRS', '>f8'), ('pmRA', '>f8'), ('pmDE', '>f8'), ('Plx', '>f8'), ('Gmag', '>f8')]))"
      ]
     },
     "execution_count": 164,
     "metadata": {},
     "output_type": "execute_result"
    }
   ],
   "source": [
    "ref_hudl[1].data"
   ]
  },
  {
   "cell_type": "code",
   "execution_count": 201,
   "metadata": {},
   "outputs": [
    {
     "data": {
      "text/plain": [
       "astropy.io.fits.column.ColDefs"
      ]
     },
     "execution_count": 201,
     "metadata": {},
     "output_type": "execute_result"
    }
   ],
   "source": [
    "dcol = fits.ColDefs(ref_hudl[1].data)\n",
    "type(dcol)"
   ]
  },
  {
   "cell_type": "code",
   "execution_count": 178,
   "metadata": {},
   "outputs": [
    {
     "data": {
      "text/plain": [
       "FITS_rec([(116.4613841 , 37.43569588, -1.152,  -4.863, 2.2596, 20.808371),\n",
       "          (116.28728873, 37.42637767, -7.179,  -2.302, 0.923 , 19.755737),\n",
       "          (116.26514877, 37.42503616, -6.796, -11.013, 1.7342, 17.05047 ),\n",
       "          ...,\n",
       "          (114.57579799, 40.98774444,  0.781,  -8.316, 0.7872, 14.156981),\n",
       "          (114.56369327, 40.99372598,  0.334,  -0.444, 0.2548, 17.488308),\n",
       "          (114.59090475, 40.99928735, 25.997, -35.978, 1.5644, 18.949257)],\n",
       "         dtype=(numpy.record, [('RA_ICRS', '<f8'), ('DE_ICRS', '<f8'), ('pmRA', '<f8'), ('pmDE', '<f8'), ('Plx', '<f8'), ('Gmag', '<f8')]))"
      ]
     },
     "execution_count": 178,
     "metadata": {},
     "output_type": "execute_result"
    }
   ],
   "source": [
    "tbl2 = fits.BinTableHDU.from_columns(dcol)\n",
    "tbl2.data"
   ]
  },
  {
   "cell_type": "code",
   "execution_count": 193,
   "metadata": {},
   "outputs": [
    {
     "data": {
      "text/plain": [
       "FITS_rec([(116.4613841 , 37.43569588, -1.152,  -4.863, 2.2596, 20.808371),\n",
       "          (116.28728873, 37.42637767, -7.179,  -2.302, 0.923 , 19.755737),\n",
       "          (116.26514877, 37.42503616, -6.796, -11.013, 1.7342, 17.05047 ),\n",
       "          ...,\n",
       "          (114.57579799, 40.98774444,  0.781,  -8.316, 0.7872, 14.156981),\n",
       "          (114.56369327, 40.99372598,  0.334,  -0.444, 0.2548, 17.488308),\n",
       "          (114.59090475, 40.99928735, 25.997, -35.978, 1.5644, 18.949257)],\n",
       "         dtype=(numpy.record, [('RA_ICRS', '<f8'), ('DE_ICRS', '<f8'), ('pmRA', '<f8'), ('pmDE', '<f8'), ('Plx', '<f8'), ('Gmag', '<f8')]))"
      ]
     },
     "execution_count": 193,
     "metadata": {},
     "output_type": "execute_result"
    }
   ],
   "source": [
    "tbl2 = fits.BinTableHDU.from_columns(ref_hudl[1].data)\n",
    "tbl2.data"
   ]
  },
  {
   "cell_type": "code",
   "execution_count": 179,
   "metadata": {},
   "outputs": [],
   "source": [
    "tblhdr = np.array([ref_hudl[1].header.tostring()])\n",
    "# Define the column properties and create a new table HDU for the header information\n",
    "hcol = fits.ColDefs([fits.Column(name=\"Field Header Card\", array=tblhdr, format=\"13200A\")])\n",
    "tbl1 = fits.BinTableHDU.from_columns(hcol)"
   ]
  },
  {
   "cell_type": "code",
   "execution_count": 197,
   "metadata": {},
   "outputs": [
    {
     "data": {
      "text/plain": [
       "astropy.io.fits.column.Column"
      ]
     },
     "execution_count": 197,
     "metadata": {},
     "output_type": "execute_result"
    }
   ],
   "source": [
    "type(fits.Column(name=\"Field Header Card\", array=tblhdr, format=\"13200A\"))"
   ]
  },
  {
   "cell_type": "code",
   "execution_count": 200,
   "metadata": {},
   "outputs": [
    {
     "data": {
      "text/plain": [
       "astropy.table.column.Column"
      ]
     },
     "execution_count": 200,
     "metadata": {},
     "output_type": "execute_result"
    }
   ],
   "source": [
    "type(Column(name=\"Plx\", data=catalog[\"Plx\"], unit=u.mas))"
   ]
  },
  {
   "cell_type": "code",
   "execution_count": 190,
   "metadata": {},
   "outputs": [],
   "source": [
    "tblhdr = np.array([ref_hudl[1].header.tostring()])\n",
    "# Define the column properties and create a new table HDU for the header information\n",
    "tbl1 = fits.BinTableHDU.from_columns([fits.Column(name=\"Field Header Card\", array=tblhdr, format=\"13200A\")])"
   ]
  }
 ],
 "metadata": {
  "kernelspec": {
   "display_name": "csst_mci",
   "language": "python",
   "name": "python3"
  },
  "language_info": {
   "codemirror_mode": {
    "name": "ipython",
    "version": 3
   },
   "file_extension": ".py",
   "mimetype": "text/x-python",
   "name": "python",
   "nbconvert_exporter": "python",
   "pygments_lexer": "ipython3",
   "version": "3.11.5"
  },
  "orig_nbformat": 4
 },
 "nbformat": 4,
 "nbformat_minor": 2
}
